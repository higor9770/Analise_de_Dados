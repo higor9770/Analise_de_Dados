{
  "cells": [
    {
      "cell_type": "markdown",
      "source": [
        "**LINK PARA BASE DE DADOS:**  (http://dados.recife.pe.gov.br/dataset/rede-de-educacao-municipal/resource/7c613836-9edd-4c0f-bc72-495008dd29c3)\n",
        "\n",
        "\n",
        "Dados sobre as escolas municipais do recife"
      ],
      "metadata": {
        "id": "JeTDr9Do3Cqc"
      }
    },
    {
      "cell_type": "code",
      "execution_count": null,
      "metadata": {
        "colab": {
          "base_uri": "https://localhost:8080/"
        },
        "id": "4XAjSBEwkw_t",
        "outputId": "ebea6237-3965-4f78-cf38-988e67fc23a4"
      },
      "outputs": [
        {
          "output_type": "stream",
          "name": "stdout",
          "text": [
            "Requirement already satisfied: pyspark in /usr/local/lib/python3.10/dist-packages (3.5.0)\n",
            "Requirement already satisfied: py4j==0.10.9.7 in /usr/local/lib/python3.10/dist-packages (from pyspark) (0.10.9.7)\n"
          ]
        }
      ],
      "source": [
        "!wget -q !wget -q https://dlcdn.apache.org/spark/spark-3.4.1/spark-3.4.1-bin-hadoop3.tgz\n",
        "!tar xf spark-3.4.1-bin-hadoop3.tgz\n",
        "!pip install -q findspark\n",
        "!pip install pyspark\n",
        "!apt-get install openjdk-8-jdk-headless -qq > /dev/null"
      ]
    },
    {
      "cell_type": "markdown",
      "source": [],
      "metadata": {
        "id": "B9i-RMrq3Yjz"
      }
    },
    {
      "cell_type": "code",
      "execution_count": null,
      "metadata": {
        "id": "rO7X6uUfjkA_"
      },
      "outputs": [],
      "source": [
        "import os\n",
        "os.environ[\"JAVA_HOME\"] = \"/usr/lib/jvm/java-8-openjdk-amd64\"\n",
        "os.environ[\"SPARK_HOME\"] = \"/content/spark-3.4.1-bin-hadoop3\""
      ]
    },
    {
      "cell_type": "code",
      "execution_count": null,
      "metadata": {
        "id": "moR4cWE0odT8"
      },
      "outputs": [],
      "source": [
        "import pandas as pd\n",
        "import numpy as np\n",
        "import matplotlib.pyplot as plt\n"
      ]
    },
    {
      "cell_type": "code",
      "execution_count": null,
      "metadata": {
        "id": "P1qaBsM9jwcG"
      },
      "outputs": [],
      "source": [
        "import findspark\n",
        "findspark.init()"
      ]
    },
    {
      "cell_type": "code",
      "execution_count": null,
      "metadata": {
        "id": "LVP3vFDa6lzN"
      },
      "outputs": [],
      "source": [
        "from pyspark.sql.functions import count, col, when\n",
        "from pyspark.sql import functions as F"
      ]
    },
    {
      "cell_type": "code",
      "execution_count": null,
      "metadata": {
        "id": "5GcUOZiQjyA0"
      },
      "outputs": [],
      "source": [
        "# Iniciar uma sessão local e importar dados\n",
        "from pyspark.sql import SparkSession\n",
        "sc = SparkSession.builder.master('local[*]').getOrCreate()"
      ]
    },
    {
      "cell_type": "code",
      "execution_count": null,
      "metadata": {
        "id": "wRejthTHkCQV"
      },
      "outputs": [],
      "source": [
        "df = sc.read.csv(\"/content/info_unidadesensino_07102021.csv\", header=True, inferSchema = True, sep = \";\")"
      ]
    },
    {
      "cell_type": "code",
      "execution_count": null,
      "metadata": {
        "id": "4s-z8V4rAG7O"
      },
      "outputs": [],
      "source": [
        "df1 = df"
      ]
    },
    {
      "cell_type": "code",
      "execution_count": null,
      "metadata": {
        "id": "enz2NLxC1M_e",
        "colab": {
          "base_uri": "https://localhost:8080/"
        },
        "outputId": "8981e805-19d4-434b-a5fa-a5c608223ee7"
      },
      "outputs": [
        {
          "output_type": "execute_result",
          "data": {
            "text/plain": [
              "[('rpa', 'int'),\n",
              " ('tipo_cod', 'int'),\n",
              " ('tipo', 'string'),\n",
              " ('cod_escola', 'int'),\n",
              " ('escola', 'string'),\n",
              " ('inep', 'int'),\n",
              " ('rua', 'string'),\n",
              " ('numero', 'string'),\n",
              " ('cod_bairro', 'int'),\n",
              " ('bairro', 'string'),\n",
              " ('metragem', 'string'),\n",
              " ('qtd_alunos', 'int'),\n",
              " ('qtd_turmas', 'int'),\n",
              " ('qtd_professores', 'int'),\n",
              " ('escola_climatizada', 'string'),\n",
              " ('data_visita', 'string'),\n",
              " ('quadra_coberta', 'string'),\n",
              " ('quadra_descoberta', 'string'),\n",
              " ('biblioteca', 'string'),\n",
              " ('sala_recurso', 'string'),\n",
              " ('gestor', 'string'),\n",
              " ('longitude', 'double'),\n",
              " ('latitude', 'double')]"
            ]
          },
          "metadata": {},
          "execution_count": 119
        }
      ],
      "source": [
        "df1.dtypes"
      ]
    },
    {
      "cell_type": "markdown",
      "metadata": {
        "id": "mZhAFo3-s1mc"
      },
      "source": [
        "**VISUALIZAÇÃO DOS DADOS**"
      ]
    },
    {
      "cell_type": "code",
      "execution_count": null,
      "metadata": {
        "id": "o_LoBQVYybM1",
        "colab": {
          "base_uri": "https://localhost:8080/"
        },
        "outputId": "81fec91f-c13e-49b5-eb1a-98665fd5741e"
      },
      "outputs": [
        {
          "output_type": "stream",
          "name": "stdout",
          "text": [
            "+---+--------+----------------+----------+--------------------+--------+--------------------+------+----------+------------------+--------+----------+----------+---------------+------------------+-----------+--------------+-----------------+----------+------------+--------------------+---------+--------+\n",
            "|rpa|tipo_cod|            tipo|cod_escola|              escola|    inep|                 rua|numero|cod_bairro|            bairro|metragem|qtd_alunos|qtd_turmas|qtd_professores|escola_climatizada|data_visita|quadra_coberta|quadra_descoberta|biblioteca|sala_recurso|              gestor|longitude|latitude|\n",
            "+---+--------+----------------+----------+--------------------+--------+--------------------+------+----------+------------------+--------+----------+----------+---------------+------------------+-----------+--------------+-----------------+----------+------------+--------------------+---------+--------+\n",
            "|  1|       1|ESCOLA MUNICIPAL|        90|ALMIRANTE SOARES ...|26120658|           CAMUTANGA|   180|        51|           CABANGA|   764,3|       387|        16|             12|               SIM|  27/2/2018|           NÃO|              NÃO|       SIM|         SIM| VERONICA MARIA LIMA|-34.89535|-8.07895|\n",
            "|  1|       1|ESCOLA MUNICIPAL|       289|CIDADAO HERBERT D...|26121972|     ARNOBIO MARQUES|   310|       108|       SANTO AMARO|     206|       207|        12|             12|               NÂO|       null|           NÃO|              NÃO|       NÃO|         SIM|ANA CLAUDIA DO NA...|-34.88707|-8.04576|\n",
            "|  1|       1|ESCOLA MUNICIPAL|       256|            DO COQUE|26122898|        MIRANDOPOLIS|    35|        43|ILHA JOANA BEZERRA|   840,5|       598|        26|             22|               NÂO|       null|           NÃO|              NÃO|       SIM|         SIM|GRIJALBA MARIA PE...|-34.90022|-8.07145|\n",
            "|  1|       1|ESCOLA MUNICIPAL|        91|         DOS COELHOS|26118670|         DOS COELHOS|   591|        60|           COELHOS|    1322|       763|        35|             28|               NÂO|       null|           NÃO|              NÃO|       SIM|         SIM|FRANCISCA ANGELA ...|-34.89097|-8.06876|\n",
            "|  1|       1|ESCOLA MUNICIPAL|       384|   FREI TADEU GLASER|26175347|  AGAMENON MAGALHAES|   600|       108|       SANTO AMARO|   398,4|       138|         8|              7|               NÂO|  19/4/2017|           NÃO|              NÃO|       SIM|         NÃO|KIRIA CELESTE DOR...|-34.87818|-8.04006|\n",
            "|  1|       1|ESCOLA MUNICIPAL|       104|GENERAL EMIDIO DA...|26121980|          DA SAUDADE|   303|       108|       SANTO AMARO|  1402,1|       341|        19|             16|               NÂO|       null|           NÃO|              SIM|       SIM|         SIM|MARIA SANDRA MARQ...|-34.88342|-8.05086|\n",
            "|  1|       1|ESCOLA MUNICIPAL|       282|    LUTADORES DO BEM|26121913|CORONEL VIRGILIO ...|   269|       108|       SANTO AMARO|   455,2|       277|        17|             14|               NÂO|       null|           NÃO|              NÃO|       SIM|         SIM|JOSANE PATRICIO S...|-34.87718|-8.04397|\n",
            "|  1|       1|ESCOLA MUNICIPAL|       312|NOSSA SENHORA DO ...|26147300|      ALFREDO LISBOA|   S/N|        19|            RECIFE|   712,3|       171|        13|             11|               NÂO|       null|           NÃO|              SIM|       SIM|         SIM|RENATA ROSSY NOBL...|-34.86983|-8.05794|\n",
            "|  1|       1|ESCOLA MUNICIPAL|       922|         NOVO MANGUE|26158400|     AVENIDA CENTRAL|   511|        43|ILHA JOANA BEZERRA|  1010,7|       419|        19|             13|               NÂO|       null|           NÃO|              SIM|       SIM|         SIM|FRANCISCO DE ASSI...|-34.90358| -8.0751|\n",
            "|  1|       1|ESCOLA MUNICIPAL|        66|       PEDRO AUGUSTO|26121468|  BARAO DE SAO BORJA|   279|        86|         BOA VISTA|  2245,5|       387|        15|             13|               SIM|       null|           SIM|              NÃO|       SIM|         SIM|JOSENIDE MATIAS P...|-34.89012| -8.0605|\n",
            "|  1|       1|ESCOLA MUNICIPAL|         4|PROFESSOR JOSE DA...|26121255|       CABO EUTROPIO|   660|        43|ILHA JOANA BEZERRA|  1454,4|       782|        30|             29|               NÂO|   6/6/2017|           SIM|              NÃO|       SIM|         SIM|SELME DE FIGUEIRO...|-34.90061|-8.07192|\n",
            "|  1|       1|ESCOLA MUNICIPAL|       935|PROFESSOR JOSUE D...|26167891|  MARTIN LUTHER KING|   368|        43|ILHA JOANA BEZERRA|     388|       249|        14|             12|               NÂO|       null|           NÃO|              NÃO|       NÃO|         NÃO|MARCIA CLAUDIA MA...|-34.89907|-8.06952|\n",
            "|  1|       1|ESCOLA MUNICIPAL|         1| REITOR JOAO ALFREDO|26121786|SENADOR JOSE HENR...|   160|        78|     ILHA DO LEITE|    1832|       330|        13|             13|               NÂO|       null|           SIM|              NÃO|       SIM|         SIM|MARILIA OLIVEIRA ...|-34.89518|-8.06503|\n",
            "|  1|       1|ESCOLA MUNICIPAL|       189|         SANTO AMARO|26134379|               NORTE|   570|       108|       SANTO AMARO|   258,8|       527|        23|             18|               NÂO|       null|           NÃO|              NÃO|       SIM|         SIM|ANGELICA MARIA DE...| -34.8778|-8.04657|\n",
            "|  1|       1|ESCOLA MUNICIPAL|        93|   SEDE DA SABEDORIA|26122014|             ARTEMIS|    30|       108|       SANTO AMARO|  1188,8|       510|        25|             16|               NÂO|  19/4/2017|           NÃO|              NÃO|       SIM|         SIM|LINDINALVA FERREI...|-34.87684|-8.04019|\n",
            "|  1|       1|ESCOLA MUNICIPAL|        95|        SITIO DO CEU|26136269|            ANCHIETA|    85|       108|       SANTO AMARO|   238,7|       185|        10|             10|               SIM|  19/4/2017|           NÃO|              NÃO|       NÃO|         SIM|VIVIANE CRISTINA ...|-34.88053|-8.04132|\n",
            "|  1|       2|CRECHE MUNICIPAL|       504|PROFESSOR FRANCIS...|26158701|  AGAMENON MAGALHAES|   S/N|       108|       SANTO AMARO|   440,8|       128|         8|              7|               NÂO|  25/4/2017|           NÃO|              NÃO|       NÃO|         NÃO|ELIANE RODRIGUES ...|-34.88857| -8.0451|\n",
            "|  1|       2|CRECHE MUNICIPAL|       503|  SAO DOMINGOS SAVIO|26149753|         DOS CASADOS|   164|       108|       SANTO AMARO|   124,8|        30|         2|              2|               NÂO|       null|           NÃO|              NÃO|       NÃO|         NÃO|PATRICIA DE MORAI...|-34.87409|-8.03981|\n",
            "|  1|       2|CRECHE MUNICIPAL|       502|          VOVO ARTUR|26149818|           BEIRA RIO|   S/N|        60|           COELHOS|   644,7|       104|         5|              5|               NÂO|       null|           NÃO|              NÃO|       NÃO|         NÃO|CORINA MARIA FREI...|-34.89116|-8.06907|\n",
            "|  1|       5|            CMEI|       415|ANA ROSA FALCAO D...|26122022|           JOAO LYRA|   S/N|       108|       SANTO AMARO|  1878,9|       186|        10|             10|               SIM|  25/4/2017|           NÃO|              NÃO|       SIM|         SIM|RITA DE CASSIA CA...|-34.88006| -8.0561|\n",
            "+---+--------+----------------+----------+--------------------+--------+--------------------+------+----------+------------------+--------+----------+----------+---------------+------------------+-----------+--------------+-----------------+----------+------------+--------------------+---------+--------+\n",
            "only showing top 20 rows\n",
            "\n"
          ]
        }
      ],
      "source": [
        "df1.show()"
      ]
    },
    {
      "cell_type": "code",
      "execution_count": null,
      "metadata": {
        "id": "KRCzneZ21pMU",
        "colab": {
          "base_uri": "https://localhost:8080/"
        },
        "outputId": "c167005f-c1b5-4786-a025-c7110777ef1c"
      },
      "outputs": [
        {
          "output_type": "stream",
          "name": "stdout",
          "text": [
            "+---+\n",
            "|rpa|\n",
            "+---+\n",
            "|  1|\n",
            "|  6|\n",
            "|  3|\n",
            "|  5|\n",
            "|  4|\n",
            "|  2|\n",
            "+---+\n",
            "\n",
            "None\n",
            "+--------+\n",
            "|tipo_cod|\n",
            "+--------+\n",
            "|       1|\n",
            "|       5|\n",
            "|       8|\n",
            "|       2|\n",
            "+--------+\n",
            "\n",
            "None\n",
            "+-----------------+\n",
            "|             tipo|\n",
            "+-----------------+\n",
            "|CRECHE ESC.RECIFE|\n",
            "|             CMEI|\n",
            "| ESCOLA MUNICIPAL|\n",
            "| CRECHE MUNICIPAL|\n",
            "+-----------------+\n",
            "\n",
            "None\n",
            "+----------+\n",
            "|cod_escola|\n",
            "+----------+\n",
            "|       148|\n",
            "|       496|\n",
            "|       516|\n",
            "|        31|\n",
            "|       251|\n",
            "|        85|\n",
            "|       451|\n",
            "|       137|\n",
            "|       458|\n",
            "|       255|\n",
            "|       481|\n",
            "|       133|\n",
            "|        78|\n",
            "|       321|\n",
            "|       974|\n",
            "|       375|\n",
            "|       950|\n",
            "|       108|\n",
            "|        34|\n",
            "|       530|\n",
            "+----------+\n",
            "only showing top 20 rows\n",
            "\n",
            "None\n",
            "+--------------------+\n",
            "|              escola|\n",
            "+--------------------+\n",
            "|DIACONO ABEL GUEIROS|\n",
            "|            DO PILAR|\n",
            "|           ESPERANCA|\n",
            "|PROFESSOR ORLANDO...|\n",
            "|ALTO JARDIM PROGR...|\n",
            "|   MAEZINHA DO COQUE|\n",
            "|      IBURA DE BAIXO|\n",
            "|PROFESSOR MOACYR ...|\n",
            "|ARTISTA PLASTICO ...|\n",
            "|           DO JORDAO|\n",
            "|     MONTEIRO LOBATO|\n",
            "|     LAGOA ENCANTADA|\n",
            "|DONA CARMELITA MU...|\n",
            "|PROFESSOR JOAO BA...|\n",
            "|OCTAVIO DE MEIRA ...|\n",
            "|            LUA LUAR|\n",
            "|   ALTO DA GUABIRABA|\n",
            "|     MUNDO ESPERANCA|\n",
            "|        DOS REMEDIOS|\n",
            "|GOVERNADOR MIGUEL...|\n",
            "+--------------------+\n",
            "only showing top 20 rows\n",
            "\n",
            "None\n",
            "+--------+\n",
            "|    inep|\n",
            "+--------+\n",
            "|26121662|\n",
            "|26149800|\n",
            "|26153408|\n",
            "|26123126|\n",
            "|26153130|\n",
            "|26164361|\n",
            "|26153270|\n",
            "|26175398|\n",
            "|26117576|\n",
            "|26136269|\n",
            "|26128888|\n",
            "|26118734|\n",
            "|26121050|\n",
            "|26154137|\n",
            "|26185679|\n",
            "|26153416|\n",
            "|26177960|\n",
            "|26157489|\n",
            "|26124955|\n",
            "|26122898|\n",
            "+--------+\n",
            "only showing top 20 rows\n",
            "\n",
            "None\n",
            "+--------------------+\n",
            "|                 rua|\n",
            "+--------------------+\n",
            "|            ALTEROSA|\n",
            "|      AVELINO CHAVES|\n",
            "|ALTO JARDIM PROGR...|\n",
            "|ALVARO TEIXEIRA M...|\n",
            "|        MANOEL SILVA|\n",
            "|          DA MUMBECA|\n",
            "|      FAUSTO CARDOSO|\n",
            "|JOAO JOAQUIM DE M...|\n",
            "|       PEDRO BATISTA|\n",
            "|            CARAPEBA|\n",
            "|VEREADOR OTACILIO...|\n",
            "|ELIANE FRAGOSO DO...|\n",
            "|JORNALISTA EDSOU ...|\n",
            "|DEP JOSE FRANCISC...|\n",
            "|SOLDADO VIRGILIO ...|\n",
            "|NORTE MIGUEL ARRA...|\n",
            "|PADRE CARLOS LEONCIO|\n",
            "|     ARNOBIO MARQUES|\n",
            "|          AURILANDIA|\n",
            "|  ALTO ANTONIO FELIX|\n",
            "+--------------------+\n",
            "only showing top 20 rows\n",
            "\n",
            "None\n",
            "+------+\n",
            "|numero|\n",
            "+------+\n",
            "|    07|\n",
            "|   125|\n",
            "|  1265|\n",
            "|   591|\n",
            "|    51|\n",
            "|  3895|\n",
            "|   169|\n",
            "|   470|\n",
            "|    54|\n",
            "|   700|\n",
            "|   155|\n",
            "|   200|\n",
            "|   279|\n",
            "|   685|\n",
            "|   415|\n",
            "|    69|\n",
            "|   419|\n",
            "|  1470|\n",
            "|   112|\n",
            "|    42|\n",
            "+------+\n",
            "only showing top 20 rows\n",
            "\n",
            "None\n",
            "+----------+\n",
            "|cod_bairro|\n",
            "+----------+\n",
            "|       833|\n",
            "|       540|\n",
            "|        78|\n",
            "|       876|\n",
            "|       108|\n",
            "|       744|\n",
            "|       787|\n",
            "|       914|\n",
            "|       329|\n",
            "|       388|\n",
            "|       663|\n",
            "|       604|\n",
            "|       493|\n",
            "|       230|\n",
            "|       140|\n",
            "|       353|\n",
            "|       906|\n",
            "|       280|\n",
            "|        86|\n",
            "|       760|\n",
            "+----------+\n",
            "only showing top 20 rows\n",
            "\n",
            "None\n",
            "+------------------+\n",
            "|            bairro|\n",
            "+------------------+\n",
            "|  JARDIM SAO PAULO|\n",
            "|           TORROES|\n",
            "|CAMPINA DO BARRETO|\n",
            "|  SITIO DOS PINTOS|\n",
            "|             BARRO|\n",
            "|          BEBERIBE|\n",
            "|         MANGUEIRA|\n",
            "|             COHAB|\n",
            "|       SANTO AMARO|\n",
            "|ALTO JOSE DO PINHO|\n",
            "|            SANCHO|\n",
            "|            FUNDAO|\n",
            "|          SAO JOSE|\n",
            "|          CAJUEIRO|\n",
            "|            RECIFE|\n",
            "|          CORDEIRO|\n",
            "|         MACAXEIRA|\n",
            "|          AFOGADOS|\n",
            "|       DOIS IRMAOS|\n",
            "|   ENGENHO DO MEIO|\n",
            "+------------------+\n",
            "only showing top 20 rows\n",
            "\n",
            "None\n",
            "+--------+\n",
            "|metragem|\n",
            "+--------+\n",
            "|    1090|\n",
            "|   940,7|\n",
            "|   227,3|\n",
            "|     718|\n",
            "|  1297,5|\n",
            "|     169|\n",
            "|   371,4|\n",
            "|  1590,3|\n",
            "|   453,6|\n",
            "|   815,9|\n",
            "|     388|\n",
            "|     495|\n",
            "|     625|\n",
            "|   727,7|\n",
            "|   305,3|\n",
            "|   397,8|\n",
            "|   250,9|\n",
            "|   455,2|\n",
            "|      73|\n",
            "|   347,8|\n",
            "+--------+\n",
            "only showing top 20 rows\n",
            "\n",
            "None\n",
            "+----------+\n",
            "|qtd_alunos|\n",
            "+----------+\n",
            "|       148|\n",
            "|       471|\n",
            "|       463|\n",
            "|       137|\n",
            "|       251|\n",
            "|        85|\n",
            "|       458|\n",
            "|        65|\n",
            "|       322|\n",
            "|        78|\n",
            "|       633|\n",
            "|       375|\n",
            "|       155|\n",
            "|       796|\n",
            "|       101|\n",
            "|       115|\n",
            "|       126|\n",
            "|        81|\n",
            "|       385|\n",
            "|       436|\n",
            "+----------+\n",
            "only showing top 20 rows\n",
            "\n",
            "None\n",
            "+----------+\n",
            "|qtd_turmas|\n",
            "+----------+\n",
            "|        31|\n",
            "|        28|\n",
            "|        26|\n",
            "|        27|\n",
            "|        12|\n",
            "|        22|\n",
            "|        13|\n",
            "|        16|\n",
            "|         6|\n",
            "|         3|\n",
            "|        20|\n",
            "|         5|\n",
            "|        19|\n",
            "|        15|\n",
            "|        17|\n",
            "|         9|\n",
            "|        35|\n",
            "|         4|\n",
            "|         8|\n",
            "|        23|\n",
            "+----------+\n",
            "only showing top 20 rows\n",
            "\n",
            "None\n",
            "+---------------+\n",
            "|qtd_professores|\n",
            "+---------------+\n",
            "|             28|\n",
            "|             26|\n",
            "|             27|\n",
            "|             12|\n",
            "|             22|\n",
            "|             13|\n",
            "|             16|\n",
            "|              6|\n",
            "|              3|\n",
            "|             20|\n",
            "|              5|\n",
            "|             19|\n",
            "|             15|\n",
            "|             37|\n",
            "|              9|\n",
            "|             17|\n",
            "|              4|\n",
            "|              8|\n",
            "|             23|\n",
            "|             39|\n",
            "+---------------+\n",
            "only showing top 20 rows\n",
            "\n",
            "None\n",
            "+------------------+\n",
            "|escola_climatizada|\n",
            "+------------------+\n",
            "|               NÂO|\n",
            "|               SIM|\n",
            "+------------------+\n",
            "\n",
            "None\n",
            "+-----------+\n",
            "|data_visita|\n",
            "+-----------+\n",
            "|   5/7/2017|\n",
            "|   5/5/2017|\n",
            "|  19/4/2017|\n",
            "|  23/5/2017|\n",
            "|   9/2/2017|\n",
            "| 31/10/2017|\n",
            "|   6/2/2017|\n",
            "| 25/10/2017|\n",
            "|  16/4/2018|\n",
            "|  26/4/2017|\n",
            "|  27/4/2017|\n",
            "|   6/4/2018|\n",
            "|  12/4/2017|\n",
            "|       null|\n",
            "|  10/4/2017|\n",
            "|  16/6/2017|\n",
            "| 12/12/2017|\n",
            "|  13/2/2017|\n",
            "|  13/6/2017|\n",
            "|  20/4/2017|\n",
            "+-----------+\n",
            "only showing top 20 rows\n",
            "\n",
            "None\n",
            "+--------------+\n",
            "|quadra_coberta|\n",
            "+--------------+\n",
            "|           NÃO|\n",
            "|           SIM|\n",
            "+--------------+\n",
            "\n",
            "None\n",
            "+-----------------+\n",
            "|quadra_descoberta|\n",
            "+-----------------+\n",
            "|              NÃO|\n",
            "|              SIM|\n",
            "+-----------------+\n",
            "\n",
            "None\n",
            "+----------+\n",
            "|biblioteca|\n",
            "+----------+\n",
            "|       NÃO|\n",
            "|       SIM|\n",
            "+----------+\n",
            "\n",
            "None\n",
            "+------------+\n",
            "|sala_recurso|\n",
            "+------------+\n",
            "|         NÃO|\n",
            "|         SIM|\n",
            "+------------+\n",
            "\n",
            "None\n",
            "+--------------------+\n",
            "|              gestor|\n",
            "+--------------------+\n",
            "|JOSANE PATRICIO S...|\n",
            "|VIVIANE CRISTINA ...|\n",
            "|EDVANIA MUNIZ DE ...|\n",
            "|ANA PAULA DE FARI...|\n",
            "|ELAINE JAQUELINE ...|\n",
            "|FLAVIA THAIS DOS ...|\n",
            "|SANDRA DE OLIVEIR...|\n",
            "|ELIZANGELA TAVARE...|\n",
            "|ANA PAULA DE ARAU...|\n",
            "|GIULLIANA BEZERRA...|\n",
            "|VIVIANE MENEZES D...|\n",
            "|GEISA CONCEICAO T...|\n",
            "|KARLA CABRAL BARROCA|\n",
            "|MONICA SAMPAIO DO...|\n",
            "|SUELY PEREIRA BEL...|\n",
            "|SANDRA CRISTINA D...|\n",
            "|ELAINE ROZENTAL D...|\n",
            "|ANA CRISTINA TEIX...|\n",
            "|LADJANE CACILDA G...|\n",
            "|NATHALINE ALVES D...|\n",
            "+--------------------+\n",
            "only showing top 20 rows\n",
            "\n",
            "None\n",
            "+---------+\n",
            "|longitude|\n",
            "+---------+\n",
            "|-34.93674|\n",
            "|-34.91801|\n",
            "|-34.93391|\n",
            "| -34.9413|\n",
            "|-34.90527|\n",
            "|-34.95704|\n",
            "|-34.90247|\n",
            "|-34.90728|\n",
            "|-34.92078|\n",
            "|-34.93104|\n",
            "| -34.9127|\n",
            "|-34.94104|\n",
            "|-34.92523|\n",
            "|-34.88342|\n",
            "|-34.90285|\n",
            "|-34.94088|\n",
            "|-34.93616|\n",
            "|-34.92449|\n",
            "|-34.91042|\n",
            "|-34.92588|\n",
            "+---------+\n",
            "only showing top 20 rows\n",
            "\n",
            "None\n",
            "+--------+\n",
            "|latitude|\n",
            "+--------+\n",
            "| -7.9805|\n",
            "|-8.00279|\n",
            "|-8.06122|\n",
            "|-8.02694|\n",
            "| -8.0666|\n",
            "|-8.13541|\n",
            "|-7.98561|\n",
            "|-8.01129|\n",
            "|-8.11032|\n",
            "|-8.10834|\n",
            "|-8.01853|\n",
            "|-8.06552|\n",
            "|-8.09935|\n",
            "|-8.11401|\n",
            "|-8.10895|\n",
            "|-8.03843|\n",
            "|-8.00465|\n",
            "|-8.07947|\n",
            "|-8.12921|\n",
            "| -8.0072|\n",
            "+--------+\n",
            "only showing top 20 rows\n",
            "\n",
            "None\n"
          ]
        }
      ],
      "source": [
        "for columns in df1: # um for para percorrer cada valor distinto de cada tabela e mostrar\n",
        "  print(df1.select(columns).distinct().show())"
      ]
    },
    {
      "cell_type": "markdown",
      "metadata": {
        "id": "tV3HKawZtQWs"
      },
      "source": [
        "**TRANSFORMAÇÃO DOS DADOS**"
      ]
    },
    {
      "cell_type": "code",
      "execution_count": null,
      "metadata": {
        "id": "6BF-fqhMCVFF"
      },
      "outputs": [],
      "source": [
        "df1 = df1.withColumn(\"data_visita\", when(col(\"data_visita\").isNull(), \"NAN\").otherwise(col(\"data_visita\")))  #Alterando os valores nulos por NAN só para ver se pegava\n",
        "\n",
        "# df1 = df1.withColumn(\"data_visita\", when(col(\"data_visita\") == \"valor\", \"valor alterad\").otherwise(col(\"data_visita\"))) # como alterar um valor diferente de null"
      ]
    },
    {
      "cell_type": "code",
      "execution_count": null,
      "metadata": {
        "id": "_BoXMVj9FVFW"
      },
      "outputs": [],
      "source": [
        "df1 = df1.withColumn(\"tipo\", when(col(\"tipo\") == \"centros munic de ed.infantil\", \"CMEI\").otherwise(col(\"tipo\")))"
      ]
    },
    {
      "cell_type": "code",
      "execution_count": null,
      "metadata": {
        "id": "6Nkjer8DrD1M"
      },
      "outputs": [],
      "source": [
        "df1 = df1.drop(\"longitude\", \"latitude\", \"quadra_descoberta\", \"metragem\", \"tipo_cod\", \"inep\") # dropando colunas que não irei usar"
      ]
    },
    {
      "cell_type": "code",
      "execution_count": null,
      "metadata": {
        "id": "TZgfEa8QsSke"
      },
      "outputs": [],
      "source": [
        "df1 = df1.withColumnRenamed(\"rpa\", \"região politico administrativa\") # renomeando coluna que não irei usar"
      ]
    },
    {
      "cell_type": "code",
      "execution_count": null,
      "metadata": {
        "id": "EFIyqZSFDb41",
        "colab": {
          "base_uri": "https://localhost:8080/"
        },
        "outputId": "2dd06e13-1e1d-4e94-9d08-258ef4580285"
      },
      "outputs": [
        {
          "output_type": "stream",
          "name": "stdout",
          "text": [
            "+------------------------------+----------------+----------+--------------------+--------------------+------+----------+------------------+----------+----------+---------------+------------------+-----------+--------------+----------+------------+--------------------+\n",
            "|região politico administrativa|            tipo|cod_escola|              escola|                 rua|numero|cod_bairro|            bairro|qtd_alunos|qtd_turmas|qtd_professores|escola_climatizada|data_visita|quadra_coberta|biblioteca|sala_recurso|              gestor|\n",
            "+------------------------------+----------------+----------+--------------------+--------------------+------+----------+------------------+----------+----------+---------------+------------------+-----------+--------------+----------+------------+--------------------+\n",
            "|                             1|ESCOLA MUNICIPAL|        90|ALMIRANTE SOARES ...|           CAMUTANGA|   180|        51|           CABANGA|       387|        16|             12|               SIM|  27/2/2018|           NÃO|       SIM|         SIM| VERONICA MARIA LIMA|\n",
            "|                             1|ESCOLA MUNICIPAL|       289|CIDADAO HERBERT D...|     ARNOBIO MARQUES|   310|       108|       SANTO AMARO|       207|        12|             12|               NÂO|        NAN|           NÃO|       NÃO|         SIM|ANA CLAUDIA DO NA...|\n",
            "|                             1|ESCOLA MUNICIPAL|       256|            DO COQUE|        MIRANDOPOLIS|    35|        43|ILHA JOANA BEZERRA|       598|        26|             22|               NÂO|        NAN|           NÃO|       SIM|         SIM|GRIJALBA MARIA PE...|\n",
            "|                             1|ESCOLA MUNICIPAL|        91|         DOS COELHOS|         DOS COELHOS|   591|        60|           COELHOS|       763|        35|             28|               NÂO|        NAN|           NÃO|       SIM|         SIM|FRANCISCA ANGELA ...|\n",
            "|                             1|ESCOLA MUNICIPAL|       384|   FREI TADEU GLASER|  AGAMENON MAGALHAES|   600|       108|       SANTO AMARO|       138|         8|              7|               NÂO|  19/4/2017|           NÃO|       SIM|         NÃO|KIRIA CELESTE DOR...|\n",
            "|                             1|ESCOLA MUNICIPAL|       104|GENERAL EMIDIO DA...|          DA SAUDADE|   303|       108|       SANTO AMARO|       341|        19|             16|               NÂO|        NAN|           NÃO|       SIM|         SIM|MARIA SANDRA MARQ...|\n",
            "|                             1|ESCOLA MUNICIPAL|       282|    LUTADORES DO BEM|CORONEL VIRGILIO ...|   269|       108|       SANTO AMARO|       277|        17|             14|               NÂO|        NAN|           NÃO|       SIM|         SIM|JOSANE PATRICIO S...|\n",
            "|                             1|ESCOLA MUNICIPAL|       312|NOSSA SENHORA DO ...|      ALFREDO LISBOA|   S/N|        19|            RECIFE|       171|        13|             11|               NÂO|        NAN|           NÃO|       SIM|         SIM|RENATA ROSSY NOBL...|\n",
            "|                             1|ESCOLA MUNICIPAL|       922|         NOVO MANGUE|     AVENIDA CENTRAL|   511|        43|ILHA JOANA BEZERRA|       419|        19|             13|               NÂO|        NAN|           NÃO|       SIM|         SIM|FRANCISCO DE ASSI...|\n",
            "|                             1|ESCOLA MUNICIPAL|        66|       PEDRO AUGUSTO|  BARAO DE SAO BORJA|   279|        86|         BOA VISTA|       387|        15|             13|               SIM|        NAN|           SIM|       SIM|         SIM|JOSENIDE MATIAS P...|\n",
            "|                             1|ESCOLA MUNICIPAL|         4|PROFESSOR JOSE DA...|       CABO EUTROPIO|   660|        43|ILHA JOANA BEZERRA|       782|        30|             29|               NÂO|   6/6/2017|           SIM|       SIM|         SIM|SELME DE FIGUEIRO...|\n",
            "|                             1|ESCOLA MUNICIPAL|       935|PROFESSOR JOSUE D...|  MARTIN LUTHER KING|   368|        43|ILHA JOANA BEZERRA|       249|        14|             12|               NÂO|        NAN|           NÃO|       NÃO|         NÃO|MARCIA CLAUDIA MA...|\n",
            "|                             1|ESCOLA MUNICIPAL|         1| REITOR JOAO ALFREDO|SENADOR JOSE HENR...|   160|        78|     ILHA DO LEITE|       330|        13|             13|               NÂO|        NAN|           SIM|       SIM|         SIM|MARILIA OLIVEIRA ...|\n",
            "|                             1|ESCOLA MUNICIPAL|       189|         SANTO AMARO|               NORTE|   570|       108|       SANTO AMARO|       527|        23|             18|               NÂO|        NAN|           NÃO|       SIM|         SIM|ANGELICA MARIA DE...|\n",
            "|                             1|ESCOLA MUNICIPAL|        93|   SEDE DA SABEDORIA|             ARTEMIS|    30|       108|       SANTO AMARO|       510|        25|             16|               NÂO|  19/4/2017|           NÃO|       SIM|         SIM|LINDINALVA FERREI...|\n",
            "|                             1|ESCOLA MUNICIPAL|        95|        SITIO DO CEU|            ANCHIETA|    85|       108|       SANTO AMARO|       185|        10|             10|               SIM|  19/4/2017|           NÃO|       NÃO|         SIM|VIVIANE CRISTINA ...|\n",
            "|                             1|CRECHE MUNICIPAL|       504|PROFESSOR FRANCIS...|  AGAMENON MAGALHAES|   S/N|       108|       SANTO AMARO|       128|         8|              7|               NÂO|  25/4/2017|           NÃO|       NÃO|         NÃO|ELIANE RODRIGUES ...|\n",
            "|                             1|CRECHE MUNICIPAL|       503|  SAO DOMINGOS SAVIO|         DOS CASADOS|   164|       108|       SANTO AMARO|        30|         2|              2|               NÂO|        NAN|           NÃO|       NÃO|         NÃO|PATRICIA DE MORAI...|\n",
            "|                             1|CRECHE MUNICIPAL|       502|          VOVO ARTUR|           BEIRA RIO|   S/N|        60|           COELHOS|       104|         5|              5|               NÂO|        NAN|           NÃO|       NÃO|         NÃO|CORINA MARIA FREI...|\n",
            "|                             1|            CMEI|       415|ANA ROSA FALCAO D...|           JOAO LYRA|   S/N|       108|       SANTO AMARO|       186|        10|             10|               SIM|  25/4/2017|           NÃO|       SIM|         SIM|RITA DE CASSIA CA...|\n",
            "+------------------------------+----------------+----------+--------------------+--------------------+------+----------+------------------+----------+----------+---------------+------------------+-----------+--------------+----------+------------+--------------------+\n",
            "only showing top 20 rows\n",
            "\n"
          ]
        }
      ],
      "source": [
        "df1.show()"
      ]
    },
    {
      "cell_type": "code",
      "execution_count": null,
      "metadata": {
        "id": "BIuWL9Bysk8U"
      },
      "outputs": [],
      "source": [
        "df1 = df1.drop(\"data_visita\") # deletando mais uma colunas"
      ]
    },
    {
      "cell_type": "code",
      "execution_count": null,
      "metadata": {
        "id": "zOBWu1pdqLIl",
        "colab": {
          "base_uri": "https://localhost:8080/"
        },
        "outputId": "28dff36e-da96-45e3-abc9-c22ed9e498ab"
      },
      "outputs": [
        {
          "output_type": "stream",
          "name": "stdout",
          "text": [
            "+----------+-----------------+\n",
            "|biblioteca|count(biblioteca)|\n",
            "+----------+-----------------+\n",
            "|       SIM|              180|\n",
            "|       NÃO|              171|\n",
            "+----------+-----------------+\n",
            "\n"
          ]
        }
      ],
      "source": [
        "biblioteca = df1.groupBy('biblioteca').agg(F.count('biblioteca')).orderBy(F.count('biblioteca').desc()).show(10)"
      ]
    },
    {
      "cell_type": "code",
      "execution_count": null,
      "metadata": {
        "id": "YLjN1SK2qoqN",
        "colab": {
          "base_uri": "https://localhost:8080/"
        },
        "outputId": "dfd4389a-a13c-406b-c373-02f361a60732"
      },
      "outputs": [
        {
          "output_type": "execute_result",
          "data": {
            "text/plain": [
              "351"
            ]
          },
          "metadata": {},
          "execution_count": 129
        }
      ],
      "source": [
        "df1.select(\"escola\").distinct().count()"
      ]
    },
    {
      "cell_type": "code",
      "execution_count": null,
      "metadata": {
        "id": "G60k6UsJsza0",
        "colab": {
          "base_uri": "https://localhost:8080/"
        },
        "outputId": "a4ad187e-38d4-44e5-c717-97581d189b13"
      },
      "outputs": [
        {
          "output_type": "stream",
          "name": "stdout",
          "text": [
            "+-------------+\n",
            "|count(bairro)|\n",
            "+-------------+\n",
            "|          351|\n",
            "+-------------+\n",
            "\n"
          ]
        }
      ],
      "source": [
        "bairro = df1.select(\"bairro\").agg(F.count('bairro')).show()"
      ]
    },
    {
      "cell_type": "code",
      "execution_count": null,
      "metadata": {
        "id": "_UbZ2hksun4N",
        "colab": {
          "base_uri": "https://localhost:8080/"
        },
        "outputId": "e974593b-fcf7-4b7e-c87e-6806762f8d15"
      },
      "outputs": [
        {
          "output_type": "stream",
          "name": "stdout",
          "text": [
            "+------+\n",
            "|numero|\n",
            "+------+\n",
            "|    07|\n",
            "|   125|\n",
            "|  1265|\n",
            "|   591|\n",
            "|    51|\n",
            "|  3895|\n",
            "|   169|\n",
            "|   470|\n",
            "|    54|\n",
            "|   700|\n",
            "|   155|\n",
            "|   200|\n",
            "|   279|\n",
            "|   685|\n",
            "|   415|\n",
            "|    69|\n",
            "|   419|\n",
            "|  1470|\n",
            "|   112|\n",
            "|    42|\n",
            "+------+\n",
            "only showing top 20 rows\n",
            "\n"
          ]
        }
      ],
      "source": [
        "df1.select(\"numero\").distinct().show(20)"
      ]
    },
    {
      "cell_type": "code",
      "execution_count": null,
      "metadata": {
        "id": "7IRmzdAyvGLN",
        "colab": {
          "base_uri": "https://localhost:8080/"
        },
        "outputId": "f07e3fdd-0573-4c7d-9e3d-d682f1ad92b4"
      },
      "outputs": [
        {
          "output_type": "stream",
          "name": "stdout",
          "text": [
            "+------+-------------+\n",
            "|numero|count(numero)|\n",
            "+------+-------------+\n",
            "|   S/N|           77|\n",
            "|    SN|            9|\n",
            "|   395|            5|\n",
            "|   200|            4|\n",
            "|    35|            4|\n",
            "|    30|            3|\n",
            "|    52|            3|\n",
            "|   195|            3|\n",
            "|   320|            3|\n",
            "|   300|            3|\n",
            "|   100|            3|\n",
            "|    41|            3|\n",
            "|   111|            3|\n",
            "|   115|            3|\n",
            "|   134|            3|\n",
            "|   127|            3|\n",
            "|    10|            3|\n",
            "|    28|            2|\n",
            "|    85|            2|\n",
            "|   356|            2|\n",
            "+------+-------------+\n",
            "only showing top 20 rows\n",
            "\n"
          ]
        }
      ],
      "source": [
        "numero = df1.groupBy('numero').agg(F.count('numero')).orderBy(F.count('numero').desc()).show()"
      ]
    },
    {
      "cell_type": "code",
      "execution_count": null,
      "metadata": {
        "id": "LM3ueNMav2iU"
      },
      "outputs": [],
      "source": [
        "df1 = df1.withColumn(\"numero\", when(col(\"numero\") == \"S/N\", \"SN\").otherwise(col(\"numero\")))"
      ]
    },
    {
      "cell_type": "code",
      "execution_count": null,
      "metadata": {
        "id": "67Zkes-TwIEE",
        "colab": {
          "base_uri": "https://localhost:8080/"
        },
        "outputId": "f10a49ec-dace-4aaa-bb51-f366fbb1d85d"
      },
      "outputs": [
        {
          "output_type": "stream",
          "name": "stdout",
          "text": [
            "+------+-------------+\n",
            "|numero|count(numero)|\n",
            "+------+-------------+\n",
            "|    SN|           86|\n",
            "|   395|            5|\n",
            "|   200|            4|\n",
            "|    35|            4|\n",
            "|   100|            3|\n",
            "|    52|            3|\n",
            "|    41|            3|\n",
            "|   115|            3|\n",
            "|   134|            3|\n",
            "|   195|            3|\n",
            "+------+-------------+\n",
            "only showing top 10 rows\n",
            "\n"
          ]
        }
      ],
      "source": [
        "numero = df1.groupBy('numero').agg(F.count('numero')).orderBy(F.count('numero').desc()).show(10)"
      ]
    },
    {
      "cell_type": "markdown",
      "metadata": {
        "id": "79jX-hrpxCi9"
      },
      "source": [
        "**CONSULTAS**"
      ]
    },
    {
      "cell_type": "code",
      "execution_count": null,
      "metadata": {
        "id": "fBBINQ2J3wjM",
        "colab": {
          "base_uri": "https://localhost:8080/"
        },
        "outputId": "b66b0d2c-17e9-4f6c-a3c7-1159c0ed426b"
      },
      "outputs": [
        {
          "output_type": "stream",
          "name": "stdout",
          "text": [
            "+------------------------------+----------------+----------+--------------------+--------------------+------+----------+------------------+----------+----------+---------------+------------------+--------------+----------+------------+--------------------+\n",
            "|região politico administrativa|            tipo|cod_escola|              escola|                 rua|numero|cod_bairro|            bairro|qtd_alunos|qtd_turmas|qtd_professores|escola_climatizada|quadra_coberta|biblioteca|sala_recurso|              gestor|\n",
            "+------------------------------+----------------+----------+--------------------+--------------------+------+----------+------------------+----------+----------+---------------+------------------+--------------+----------+------------+--------------------+\n",
            "|                             1|ESCOLA MUNICIPAL|        90|ALMIRANTE SOARES ...|           CAMUTANGA|   180|        51|           CABANGA|       387|        16|             12|               SIM|           NÃO|       SIM|         SIM| VERONICA MARIA LIMA|\n",
            "|                             1|ESCOLA MUNICIPAL|       289|CIDADAO HERBERT D...|     ARNOBIO MARQUES|   310|       108|       SANTO AMARO|       207|        12|             12|               NÂO|           NÃO|       NÃO|         SIM|ANA CLAUDIA DO NA...|\n",
            "|                             1|ESCOLA MUNICIPAL|       256|            DO COQUE|        MIRANDOPOLIS|    35|        43|ILHA JOANA BEZERRA|       598|        26|             22|               NÂO|           NÃO|       SIM|         SIM|GRIJALBA MARIA PE...|\n",
            "|                             1|ESCOLA MUNICIPAL|        91|         DOS COELHOS|         DOS COELHOS|   591|        60|           COELHOS|       763|        35|             28|               NÂO|           NÃO|       SIM|         SIM|FRANCISCA ANGELA ...|\n",
            "|                             1|ESCOLA MUNICIPAL|       384|   FREI TADEU GLASER|  AGAMENON MAGALHAES|   600|       108|       SANTO AMARO|       138|         8|              7|               NÂO|           NÃO|       SIM|         NÃO|KIRIA CELESTE DOR...|\n",
            "|                             1|ESCOLA MUNICIPAL|       104|GENERAL EMIDIO DA...|          DA SAUDADE|   303|       108|       SANTO AMARO|       341|        19|             16|               NÂO|           NÃO|       SIM|         SIM|MARIA SANDRA MARQ...|\n",
            "|                             1|ESCOLA MUNICIPAL|       282|    LUTADORES DO BEM|CORONEL VIRGILIO ...|   269|       108|       SANTO AMARO|       277|        17|             14|               NÂO|           NÃO|       SIM|         SIM|JOSANE PATRICIO S...|\n",
            "|                             1|ESCOLA MUNICIPAL|       312|NOSSA SENHORA DO ...|      ALFREDO LISBOA|    SN|        19|            RECIFE|       171|        13|             11|               NÂO|           NÃO|       SIM|         SIM|RENATA ROSSY NOBL...|\n",
            "|                             1|ESCOLA MUNICIPAL|       922|         NOVO MANGUE|     AVENIDA CENTRAL|   511|        43|ILHA JOANA BEZERRA|       419|        19|             13|               NÂO|           NÃO|       SIM|         SIM|FRANCISCO DE ASSI...|\n",
            "|                             1|ESCOLA MUNICIPAL|        66|       PEDRO AUGUSTO|  BARAO DE SAO BORJA|   279|        86|         BOA VISTA|       387|        15|             13|               SIM|           SIM|       SIM|         SIM|JOSENIDE MATIAS P...|\n",
            "|                             1|ESCOLA MUNICIPAL|         4|PROFESSOR JOSE DA...|       CABO EUTROPIO|   660|        43|ILHA JOANA BEZERRA|       782|        30|             29|               NÂO|           SIM|       SIM|         SIM|SELME DE FIGUEIRO...|\n",
            "|                             1|ESCOLA MUNICIPAL|       935|PROFESSOR JOSUE D...|  MARTIN LUTHER KING|   368|        43|ILHA JOANA BEZERRA|       249|        14|             12|               NÂO|           NÃO|       NÃO|         NÃO|MARCIA CLAUDIA MA...|\n",
            "|                             1|ESCOLA MUNICIPAL|         1| REITOR JOAO ALFREDO|SENADOR JOSE HENR...|   160|        78|     ILHA DO LEITE|       330|        13|             13|               NÂO|           SIM|       SIM|         SIM|MARILIA OLIVEIRA ...|\n",
            "|                             1|ESCOLA MUNICIPAL|       189|         SANTO AMARO|               NORTE|   570|       108|       SANTO AMARO|       527|        23|             18|               NÂO|           NÃO|       SIM|         SIM|ANGELICA MARIA DE...|\n",
            "|                             1|ESCOLA MUNICIPAL|        93|   SEDE DA SABEDORIA|             ARTEMIS|    30|       108|       SANTO AMARO|       510|        25|             16|               NÂO|           NÃO|       SIM|         SIM|LINDINALVA FERREI...|\n",
            "|                             1|ESCOLA MUNICIPAL|        95|        SITIO DO CEU|            ANCHIETA|    85|       108|       SANTO AMARO|       185|        10|             10|               SIM|           NÃO|       NÃO|         SIM|VIVIANE CRISTINA ...|\n",
            "|                             1|CRECHE MUNICIPAL|       504|PROFESSOR FRANCIS...|  AGAMENON MAGALHAES|    SN|       108|       SANTO AMARO|       128|         8|              7|               NÂO|           NÃO|       NÃO|         NÃO|ELIANE RODRIGUES ...|\n",
            "|                             1|CRECHE MUNICIPAL|       503|  SAO DOMINGOS SAVIO|         DOS CASADOS|   164|       108|       SANTO AMARO|        30|         2|              2|               NÂO|           NÃO|       NÃO|         NÃO|PATRICIA DE MORAI...|\n",
            "|                             1|CRECHE MUNICIPAL|       502|          VOVO ARTUR|           BEIRA RIO|    SN|        60|           COELHOS|       104|         5|              5|               NÂO|           NÃO|       NÃO|         NÃO|CORINA MARIA FREI...|\n",
            "|                             1|            CMEI|       415|ANA ROSA FALCAO D...|           JOAO LYRA|    SN|       108|       SANTO AMARO|       186|        10|             10|               SIM|           NÃO|       SIM|         SIM|RITA DE CASSIA CA...|\n",
            "+------------------------------+----------------+----------+--------------------+--------------------+------+----------+------------------+----------+----------+---------------+------------------+--------------+----------+------------+--------------------+\n",
            "only showing top 20 rows\n",
            "\n"
          ]
        }
      ],
      "source": [
        "df1.show()"
      ]
    },
    {
      "cell_type": "markdown",
      "metadata": {
        "id": "IWhloQ9378rV"
      },
      "source": [
        "Mostrar escolas em santo amaro sem climatização"
      ]
    },
    {
      "cell_type": "code",
      "execution_count": null,
      "metadata": {
        "id": "GAwBd9x42W9U",
        "colab": {
          "base_uri": "https://localhost:8080/"
        },
        "outputId": "e8f9e063-b6f3-4ddc-c8b3-7ddd0fd941aa"
      },
      "outputs": [
        {
          "output_type": "stream",
          "name": "stdout",
          "text": [
            "+------------------------------+----------------+----------+--------------------+--------------------+------+----------+-----------+----------+----------+---------------+------------------+--------------+----------+------------+--------------------+\n",
            "|região politico administrativa|            tipo|cod_escola|              escola|                 rua|numero|cod_bairro|     bairro|qtd_alunos|qtd_turmas|qtd_professores|escola_climatizada|quadra_coberta|biblioteca|sala_recurso|              gestor|\n",
            "+------------------------------+----------------+----------+--------------------+--------------------+------+----------+-----------+----------+----------+---------------+------------------+--------------+----------+------------+--------------------+\n",
            "|                             1|ESCOLA MUNICIPAL|       289|CIDADAO HERBERT D...|     ARNOBIO MARQUES|   310|       108|SANTO AMARO|       207|        12|             12|               NÂO|           NÃO|       NÃO|         SIM|ANA CLAUDIA DO NA...|\n",
            "|                             1|ESCOLA MUNICIPAL|       384|   FREI TADEU GLASER|  AGAMENON MAGALHAES|   600|       108|SANTO AMARO|       138|         8|              7|               NÂO|           NÃO|       SIM|         NÃO|KIRIA CELESTE DOR...|\n",
            "|                             1|ESCOLA MUNICIPAL|       104|GENERAL EMIDIO DA...|          DA SAUDADE|   303|       108|SANTO AMARO|       341|        19|             16|               NÂO|           NÃO|       SIM|         SIM|MARIA SANDRA MARQ...|\n",
            "|                             1|ESCOLA MUNICIPAL|       282|    LUTADORES DO BEM|CORONEL VIRGILIO ...|   269|       108|SANTO AMARO|       277|        17|             14|               NÂO|           NÃO|       SIM|         SIM|JOSANE PATRICIO S...|\n",
            "|                             1|ESCOLA MUNICIPAL|       189|         SANTO AMARO|               NORTE|   570|       108|SANTO AMARO|       527|        23|             18|               NÂO|           NÃO|       SIM|         SIM|ANGELICA MARIA DE...|\n",
            "|                             1|ESCOLA MUNICIPAL|        93|   SEDE DA SABEDORIA|             ARTEMIS|    30|       108|SANTO AMARO|       510|        25|             16|               NÂO|           NÃO|       SIM|         SIM|LINDINALVA FERREI...|\n",
            "|                             1|CRECHE MUNICIPAL|       504|PROFESSOR FRANCIS...|  AGAMENON MAGALHAES|    SN|       108|SANTO AMARO|       128|         8|              7|               NÂO|           NÃO|       NÃO|         NÃO|ELIANE RODRIGUES ...|\n",
            "|                             1|CRECHE MUNICIPAL|       503|  SAO DOMINGOS SAVIO|         DOS CASADOS|   164|       108|SANTO AMARO|        30|         2|              2|               NÂO|           NÃO|       NÃO|         NÃO|PATRICIA DE MORAI...|\n",
            "|                             1|            CMEI|       426|  COELHINHO PENSANTE|     FATIMA TEIXEIRA|    41|       108|SANTO AMARO|       101|         7|              6|               NÂO|           NÃO|       SIM|         NÃO|VIVIANE MENEZES D...|\n",
            "+------------------------------+----------------+----------+--------------------+--------------------+------+----------+-----------+----------+----------+---------------+------------------+--------------+----------+------------+--------------------+\n",
            "\n"
          ]
        }
      ],
      "source": [
        "df1.filter((df1['bairro'] == 'SANTO AMARO') & (df1['escola_climatizada'].isin(['NÂO']))).show()"
      ]
    },
    {
      "cell_type": "markdown",
      "metadata": {
        "id": "6NCU8gSQ8EbM"
      },
      "source": [
        "Mostrar escolas na Boa Vista com climatização"
      ]
    },
    {
      "cell_type": "code",
      "execution_count": null,
      "metadata": {
        "id": "Jm5uSb028GWU",
        "colab": {
          "base_uri": "https://localhost:8080/"
        },
        "outputId": "de52d3ec-adcc-47e7-863c-b818ef4375bf"
      },
      "outputs": [
        {
          "output_type": "stream",
          "name": "stdout",
          "text": [
            "+------------------------------+----------------+----------+--------------------+------------------+------+----------+---------+----------+----------+---------------+------------------+--------------+----------+------------+--------------------+\n",
            "|região politico administrativa|            tipo|cod_escola|              escola|               rua|numero|cod_bairro|   bairro|qtd_alunos|qtd_turmas|qtd_professores|escola_climatizada|quadra_coberta|biblioteca|sala_recurso|              gestor|\n",
            "+------------------------------+----------------+----------+--------------------+------------------+------+----------+---------+----------+----------+---------------+------------------+--------------+----------+------------+--------------------+\n",
            "|                             1|ESCOLA MUNICIPAL|        66|       PEDRO AUGUSTO|BARAO DE SAO BORJA|   279|        86|BOA VISTA|       387|        15|             13|               SIM|           SIM|       SIM|         SIM|JOSENIDE MATIAS P...|\n",
            "|                             3|ESCOLA MUNICIPAL|       405|PADRE ANTONIO HEN...|         PAISSANDU|   112|        86|BOA VISTA|       115|         8|              4|               SIM|           NÃO|       SIM|         NÃO|                null|\n",
            "+------------------------------+----------------+----------+--------------------+------------------+------+----------+---------+----------+----------+---------------+------------------+--------------+----------+------------+--------------------+\n",
            "\n"
          ]
        }
      ],
      "source": [
        "df1.filter((df1['bairro'] == 'BOA VISTA') & (df1['escola_climatizada'].isin(['SIM']))).show()"
      ]
    },
    {
      "cell_type": "markdown",
      "metadata": {
        "id": "n4R5cZMd8cxs"
      },
      "source": [
        "Mostrar escolas de Recife que não possuem biblioteca"
      ]
    },
    {
      "cell_type": "code",
      "execution_count": null,
      "metadata": {
        "id": "IjGLnUpr8lck",
        "colab": {
          "base_uri": "https://localhost:8080/"
        },
        "outputId": "d5d7308b-5dfe-46ef-e1d4-b04a89fe7cf5"
      },
      "outputs": [
        {
          "output_type": "stream",
          "name": "stdout",
          "text": [
            "+------------------------------+-----------------+----------+--------------------+---------------+------+----------+------+----------+----------+---------------+------------------+--------------+----------+------------+--------------------+\n",
            "|região politico administrativa|             tipo|cod_escola|              escola|            rua|numero|cod_bairro|bairro|qtd_alunos|qtd_turmas|qtd_professores|escola_climatizada|quadra_coberta|biblioteca|sala_recurso|              gestor|\n",
            "+------------------------------+-----------------+----------+--------------------+---------------+------+----------+------+----------+----------+---------------+------------------+--------------+----------+------------+--------------------+\n",
            "|                             1|             CMEI|       425|DOUTOR ALBERICO D...|  CAIS DO APOLO|   925|        19|RECIFE|       103|         7|              6|               NÂO|           NÃO|       NÃO|         NÃO|ANA CRISTINA TEIX...|\n",
            "|                             1|CRECHE ESC.RECIFE|       495|            DO PILAR|RUA DO OCIDENTE|    SN|        19|RECIFE|       119|         6|              6|               NÂO|           NÃO|       NÃO|         NÃO|ROBERTA KAROLINA ...|\n",
            "|                             1|CRECHE ESC.RECIFE|        35|PORTO DIGITAL DO ...|           null|   050|        19|RECIFE|        82|         5|              4|               NÂO|           NÃO|       NÃO|         NÃO|CRISTIANE GONCALV...|\n",
            "+------------------------------+-----------------+----------+--------------------+---------------+------+----------+------+----------+----------+---------------+------------------+--------------+----------+------------+--------------------+\n",
            "\n"
          ]
        }
      ],
      "source": [
        "df1.filter((df1['bairro'] == 'RECIFE') & (df1['biblioteca'].isin(['NÃO']))).show()"
      ]
    },
    {
      "cell_type": "markdown",
      "metadata": {
        "id": "W8NS89jADSjN"
      },
      "source": [
        "Trazendo as escolas da região 6 que possuem mais de 500 alunos e não possue uma biblioteca na escola"
      ]
    },
    {
      "cell_type": "code",
      "execution_count": null,
      "metadata": {
        "id": "g_ppu97mAjPU",
        "colab": {
          "base_uri": "https://localhost:8080/"
        },
        "outputId": "ddd051f1-46f1-4b28-e3bf-fd95e72de489"
      },
      "outputs": [
        {
          "output_type": "stream",
          "name": "stdout",
          "text": [
            "+------------------------------+----------------+----------+--------------------+-----------+------+----------+------+----------+----------+---------------+------------------+--------------+----------+------------+--------------------+\n",
            "|região politico administrativa|            tipo|cod_escola|              escola|        rua|numero|cod_bairro|bairro|qtd_alunos|qtd_turmas|qtd_professores|escola_climatizada|quadra_coberta|biblioteca|sala_recurso|              gestor|\n",
            "+------------------------------+----------------+----------+--------------------+-----------+------+----------+------+----------+----------+---------------+------------------+--------------+----------+------------+--------------------+\n",
            "|                             6|ESCOLA MUNICIPAL|       164|POETA PAULO BANDE...|DAS PANELAS|    28|       884| COHAB|       541|        24|             17|               SIM|           NÃO|       NÃO|         SIM|MARIA ANDREZA CAB...|\n",
            "|                             6|ESCOLA MUNICIPAL|       188|PROFESSOR SIMOES ...|  DOIS RIOS|    SN|       230| IBURA|       610|        29|             19|               SIM|           NÃO|       NÃO|         SIM|SILVIA PATRICIA B...|\n",
            "+------------------------------+----------------+----------+--------------------+-----------+------+----------+------+----------+----------+---------------+------------------+--------------+----------+------------+--------------------+\n",
            "\n"
          ]
        }
      ],
      "source": [
        "df1.filter((df1['região politico administrativa'] == 6) & (df1['qtd_alunos'] > 500) & (df1['biblioteca'] == \"NÃO\")).show()"
      ]
    },
    {
      "cell_type": "markdown",
      "metadata": {
        "id": "lkTYujTyZ3Ks"
      },
      "source": [
        "Trazendo as escolas do bairro de santo amaro que não possuem recurso de sala"
      ]
    },
    {
      "cell_type": "code",
      "execution_count": null,
      "metadata": {
        "id": "3_Jyd8GUaBEM",
        "colab": {
          "base_uri": "https://localhost:8080/"
        },
        "outputId": "6547d4c6-be10-4c96-b5e2-25f617c21227"
      },
      "outputs": [
        {
          "output_type": "stream",
          "name": "stdout",
          "text": [
            "+------------------------------+----------------+----------+--------------------+---------+------+----------+---------+----------+----------+---------------+------------------+--------------+----------+------------+------+\n",
            "|região politico administrativa|            tipo|cod_escola|              escola|      rua|numero|cod_bairro|   bairro|qtd_alunos|qtd_turmas|qtd_professores|escola_climatizada|quadra_coberta|biblioteca|sala_recurso|gestor|\n",
            "+------------------------------+----------------+----------+--------------------+---------+------+----------+---------+----------+----------+---------------+------------------+--------------+----------+------------+------+\n",
            "|                             3|ESCOLA MUNICIPAL|       405|PADRE ANTONIO HEN...|PAISSANDU|   112|        86|BOA VISTA|       115|         8|              4|               SIM|           NÃO|       SIM|         NÃO|  null|\n",
            "+------------------------------+----------------+----------+--------------------+---------+------+----------+---------+----------+----------+---------------+------------------+--------------+----------+------------+------+\n",
            "\n"
          ]
        }
      ],
      "source": [
        "df1.filter((df1['bairro'] == \"SANTO AMARO\" ) & (df1['sala_recurso'] == 'NÃO')).show()"
      ]
    },
    {
      "cell_type": "markdown",
      "source": [
        "Trazendo os valores a quantidade das escolas das regiões que possuem ou não recurso de sala de aula"
      ],
      "metadata": {
        "id": "dAmNBuFM66mD"
      }
    },
    {
      "cell_type": "code",
      "execution_count": null,
      "metadata": {
        "id": "5_aUcyVF4W5G",
        "colab": {
          "base_uri": "https://localhost:8080/"
        },
        "outputId": "6b5f5f2c-b9b0-4469-cf06-e3f484ad3873"
      },
      "outputs": [
        {
          "output_type": "stream",
          "name": "stdout",
          "text": [
            "+------------------------------+------------+-----+\n",
            "|região politico administrativa|sala_recurso|count|\n",
            "+------------------------------+------------+-----+\n",
            "|                             1|         NÃO|   10|\n",
            "|                             1|         SIM|   16|\n",
            "|                             2|         SIM|   21|\n",
            "|                             2|         NÃO|   28|\n",
            "|                             3|         SIM|   31|\n",
            "|                             3|         NÃO|   47|\n",
            "|                             4|         NÃO|   35|\n",
            "|                             4|         SIM|   24|\n",
            "|                             5|         NÃO|   25|\n",
            "|                             5|         SIM|   27|\n",
            "|                             6|         NÃO|   53|\n",
            "|                             6|         SIM|   34|\n",
            "+------------------------------+------------+-----+\n",
            "\n"
          ]
        }
      ],
      "source": [
        "df1.groupBy('região politico administrativa', 'sala_recurso').count().orderBy(\"região politico administrativa\").show()"
      ]
    },
    {
      "cell_type": "markdown",
      "source": [
        "Procurando uma escola que tem mais turmas que a quantidade de alunos e encontramos apenas uma escola que nao tem alunos e nem professores, acredito que esta escola não está em atividade na época da database"
      ],
      "metadata": {
        "id": "uxSFjjbCDm-O"
      }
    },
    {
      "cell_type": "code",
      "source": [
        "df1.filter((df1['qtd_turmas']) > (df1['qtd_alunos'])).show()"
      ],
      "metadata": {
        "colab": {
          "base_uri": "https://localhost:8080/"
        },
        "id": "5Kgd5fJlumkh",
        "outputId": "0ea79a18-903d-4663-8d12-88d76ba397d0"
      },
      "execution_count": null,
      "outputs": [
        {
          "output_type": "stream",
          "name": "stdout",
          "text": [
            "+------------------------------+----------------+----------+--------------------+----------+------+----------+--------+----------+----------+---------------+------------------+--------------+----------+------------+------+\n",
            "|região politico administrativa|            tipo|cod_escola|              escola|       rua|numero|cod_bairro|  bairro|qtd_alunos|qtd_turmas|qtd_professores|escola_climatizada|quadra_coberta|biblioteca|sala_recurso|gestor|\n",
            "+------------------------------+----------------+----------+--------------------+----------+------+----------+--------+----------+----------+---------------+------------------+--------------+----------+------------+------+\n",
            "|                             3|ESCOLA MUNICIPAL|       423|PROFESSOR NILO PE...|DO ARRAIAL|  4744|       485|MONTEIRO|         0|        12|              0|               NÂO|           SIM|       SIM|         SIM|  null|\n",
            "+------------------------------+----------------+----------+--------------------+----------+------+----------+--------+----------+----------+---------------+------------------+--------------+----------+------------+------+\n",
            "\n"
          ]
        }
      ]
    },
    {
      "cell_type": "markdown",
      "source": [
        "Essa consulta mostra asescolas que possuem menos professores que a quantidade de turmas"
      ],
      "metadata": {
        "id": "6VMULkofEX99"
      }
    },
    {
      "cell_type": "code",
      "source": [
        "teste = df1.filter((df1['qtd_professores']) < (df1['qtd_turmas'])).show()"
      ],
      "metadata": {
        "colab": {
          "base_uri": "https://localhost:8080/"
        },
        "id": "MZOgKq4WEPS_",
        "outputId": "62548a0e-306b-4273-a8ca-58e9379cf5c4"
      },
      "execution_count": null,
      "outputs": [
        {
          "output_type": "stream",
          "name": "stdout",
          "text": [
            "+------------------------------+-----------------+----------+--------------------+--------------------+------+----------+------------------+----------+----------+---------------+------------------+--------------+----------+------------+--------------------+\n",
            "|região politico administrativa|             tipo|cod_escola|              escola|                 rua|numero|cod_bairro|            bairro|qtd_alunos|qtd_turmas|qtd_professores|escola_climatizada|quadra_coberta|biblioteca|sala_recurso|              gestor|\n",
            "+------------------------------+-----------------+----------+--------------------+--------------------+------+----------+------------------+----------+----------+---------------+------------------+--------------+----------+------------+--------------------+\n",
            "|                             1| ESCOLA MUNICIPAL|        90|ALMIRANTE SOARES ...|           CAMUTANGA|   180|        51|           CABANGA|       387|        16|             12|               SIM|           NÃO|       SIM|         SIM| VERONICA MARIA LIMA|\n",
            "|                             1| ESCOLA MUNICIPAL|       256|            DO COQUE|        MIRANDOPOLIS|    35|        43|ILHA JOANA BEZERRA|       598|        26|             22|               NÂO|           NÃO|       SIM|         SIM|GRIJALBA MARIA PE...|\n",
            "|                             1| ESCOLA MUNICIPAL|        91|         DOS COELHOS|         DOS COELHOS|   591|        60|           COELHOS|       763|        35|             28|               NÂO|           NÃO|       SIM|         SIM|FRANCISCA ANGELA ...|\n",
            "|                             1| ESCOLA MUNICIPAL|       384|   FREI TADEU GLASER|  AGAMENON MAGALHAES|   600|       108|       SANTO AMARO|       138|         8|              7|               NÂO|           NÃO|       SIM|         NÃO|KIRIA CELESTE DOR...|\n",
            "|                             1| ESCOLA MUNICIPAL|       104|GENERAL EMIDIO DA...|          DA SAUDADE|   303|       108|       SANTO AMARO|       341|        19|             16|               NÂO|           NÃO|       SIM|         SIM|MARIA SANDRA MARQ...|\n",
            "|                             1| ESCOLA MUNICIPAL|       282|    LUTADORES DO BEM|CORONEL VIRGILIO ...|   269|       108|       SANTO AMARO|       277|        17|             14|               NÂO|           NÃO|       SIM|         SIM|JOSANE PATRICIO S...|\n",
            "|                             1| ESCOLA MUNICIPAL|       312|NOSSA SENHORA DO ...|      ALFREDO LISBOA|    SN|        19|            RECIFE|       171|        13|             11|               NÂO|           NÃO|       SIM|         SIM|RENATA ROSSY NOBL...|\n",
            "|                             1| ESCOLA MUNICIPAL|       922|         NOVO MANGUE|     AVENIDA CENTRAL|   511|        43|ILHA JOANA BEZERRA|       419|        19|             13|               NÂO|           NÃO|       SIM|         SIM|FRANCISCO DE ASSI...|\n",
            "|                             1| ESCOLA MUNICIPAL|        66|       PEDRO AUGUSTO|  BARAO DE SAO BORJA|   279|        86|         BOA VISTA|       387|        15|             13|               SIM|           SIM|       SIM|         SIM|JOSENIDE MATIAS P...|\n",
            "|                             1| ESCOLA MUNICIPAL|         4|PROFESSOR JOSE DA...|       CABO EUTROPIO|   660|        43|ILHA JOANA BEZERRA|       782|        30|             29|               NÂO|           SIM|       SIM|         SIM|SELME DE FIGUEIRO...|\n",
            "|                             1| ESCOLA MUNICIPAL|       935|PROFESSOR JOSUE D...|  MARTIN LUTHER KING|   368|        43|ILHA JOANA BEZERRA|       249|        14|             12|               NÂO|           NÃO|       NÃO|         NÃO|MARCIA CLAUDIA MA...|\n",
            "|                             1| ESCOLA MUNICIPAL|       189|         SANTO AMARO|               NORTE|   570|       108|       SANTO AMARO|       527|        23|             18|               NÂO|           NÃO|       SIM|         SIM|ANGELICA MARIA DE...|\n",
            "|                             1| ESCOLA MUNICIPAL|        93|   SEDE DA SABEDORIA|             ARTEMIS|    30|       108|       SANTO AMARO|       510|        25|             16|               NÂO|           NÃO|       SIM|         SIM|LINDINALVA FERREI...|\n",
            "|                             1| CRECHE MUNICIPAL|       504|PROFESSOR FRANCIS...|  AGAMENON MAGALHAES|    SN|       108|       SANTO AMARO|       128|         8|              7|               NÂO|           NÃO|       NÃO|         NÃO|ELIANE RODRIGUES ...|\n",
            "|                             1|             CMEI|       426|  COELHINHO PENSANTE|     FATIMA TEIXEIRA|    41|       108|       SANTO AMARO|       101|         7|              6|               NÂO|           NÃO|       SIM|         NÃO|VIVIANE MENEZES D...|\n",
            "|                             1|             CMEI|       425|DOUTOR ALBERICO D...|       CAIS DO APOLO|   925|        19|            RECIFE|       103|         7|              6|               NÂO|           NÃO|       NÃO|         NÃO|ANA CRISTINA TEIX...|\n",
            "|                             1|CRECHE ESC.RECIFE|        35|PORTO DIGITAL DO ...|                null|   050|        19|            RECIFE|        82|         5|              4|               NÂO|           NÃO|       NÃO|         NÃO|CRISTIANE GONCALV...|\n",
            "|                             2| ESCOLA MUNICIPAL|       111|          ALDA ROMEU|  CORREGO DO DEODATO|   685|       337|         AGUA FRIA|       338|        17|             13|               NÂO|           NÃO|       SIM|         SIM|GEORGIA CRISTINA ...|\n",
            "|                             2| ESCOLA MUNICIPAL|       187|    ALTO DO MARACANA|           VILA FLOR|   356|       396|       DOIS UNIDOS|       446|        23|             14|               NÂO|           NÃO|       SIM|         NÃO|RENATA BARBOSA RO...|\n",
            "|                             2| ESCOLA MUNICIPAL|       321|     ALTO DO PASCOAL|    LADEIRA DE PEDRA|  1265|       337|         AGUA FRIA|       554|        25|             19|               NÂO|           NÃO|       SIM|         SIM|ROSANA GOMES MARTINS|\n",
            "+------------------------------+-----------------+----------+--------------------+--------------------+------+----------+------------------+----------+----------+---------------+------------------+--------------+----------+------------+--------------------+\n",
            "only showing top 20 rows\n",
            "\n"
          ]
        }
      ]
    }
  ],
  "metadata": {
    "colab": {
      "provenance": []
    },
    "kernelspec": {
      "display_name": "Python 3",
      "name": "python3"
    },
    "language_info": {
      "name": "python"
    }
  },
  "nbformat": 4,
  "nbformat_minor": 0
}