{
  "nbformat": 4,
  "nbformat_minor": 0,
  "metadata": {
    "colab": {
      "provenance": []
    },
    "kernelspec": {
      "name": "python3",
      "display_name": "Python 3"
    },
    "language_info": {
      "name": "python"
    }
  },
  "cells": [
    {
      "cell_type": "code",
      "source": [
        "!apt-get install openjdk-8-jdk-headless -qq > /dev/null"
      ],
      "metadata": {
        "id": "7WnCeH-8O-mO"
      },
      "execution_count": 7,
      "outputs": []
    },
    {
      "cell_type": "code",
      "execution_count": 8,
      "metadata": {
        "id": "gnXELzKPI5QE"
      },
      "outputs": [],
      "source": [
        "!wget -q !wget -q https://dlcdn.apache.org/spark/spark-3.4.1/spark-3.4.1-bin-hadoop3.tgz\n",
        "!tar xf spark-3.4.1-bin-hadoop3.tgz\n",
        "!pip install -q findspark"
      ]
    },
    {
      "cell_type": "code",
      "source": [
        "!pip install pyspark"
      ],
      "metadata": {
        "colab": {
          "base_uri": "https://localhost:8080/"
        },
        "id": "mJVNah-GP0io",
        "outputId": "1526520f-7f49-4a05-874d-6e95d853f1dc"
      },
      "execution_count": 9,
      "outputs": [
        {
          "output_type": "stream",
          "name": "stdout",
          "text": [
            "Requirement already satisfied: pyspark in /usr/local/lib/python3.10/dist-packages (3.5.0)\n",
            "Requirement already satisfied: py4j==0.10.9.7 in /usr/local/lib/python3.10/dist-packages (from pyspark) (0.10.9.7)\n"
          ]
        }
      ]
    },
    {
      "cell_type": "code",
      "source": [
        "import os\n",
        "os.environ[\"JAVA_HOME\"] = \"/usr/lib/jvm/java-8-openjdk-amd64\"\n",
        "os.environ[\"SPARK_HOME\"] = \"/content/spark-3.4.1-bin-hadoop3\""
      ],
      "metadata": {
        "id": "YQf4I0p9Ol0I"
      },
      "execution_count": 10,
      "outputs": []
    },
    {
      "cell_type": "code",
      "source": [
        "import findspark\n",
        "findspark.init()"
      ],
      "metadata": {
        "id": "zzETUshXOuXI"
      },
      "execution_count": 11,
      "outputs": []
    },
    {
      "cell_type": "code",
      "source": [
        "# Iniciar uma sessão local e importar dados\n",
        "from pyspark.sql import SparkSession\n",
        "sc = SparkSession.builder.master('local[*]').getOrCreate()"
      ],
      "metadata": {
        "id": "-ApK3Rw_OyJg"
      },
      "execution_count": 12,
      "outputs": []
    },
    {
      "cell_type": "code",
      "source": [
        "# carregar dados do meu computador\n",
        "dados_spark = sc.read.csv(\"/content/gasto_cliente.csv\", header=True)\n",
        "\n",
        "# Verificando o tipo de objeto criado\n",
        "type(dados_spark)"
      ],
      "metadata": {
        "id": "q1h2zCf7O6On",
        "colab": {
          "base_uri": "https://localhost:8080/"
        },
        "outputId": "1be49330-4dc2-41d6-8d2c-c73dbf56cd4d"
      },
      "execution_count": 13,
      "outputs": [
        {
          "output_type": "execute_result",
          "data": {
            "text/plain": [
              "pyspark.sql.dataframe.DataFrame"
            ]
          },
          "metadata": {},
          "execution_count": 13
        }
      ]
    },
    {
      "cell_type": "code",
      "source": [
        "# Verificando o dataset\n",
        "dados_spark.show(5)"
      ],
      "metadata": {
        "id": "0eTCH-5gQTij",
        "colab": {
          "base_uri": "https://localhost:8080/"
        },
        "outputId": "53dc1498-fac1-41ea-d114-d7e54a34129b"
      },
      "execution_count": 14,
      "outputs": [
        {
          "output_type": "stream",
          "name": "stdout",
          "text": [
            "+----------+----------+------+-----+--------+----------------+--------------------------+------------+-------------------+-------------------+-------------------+-----+\n",
            "|ID_Usuario|ID_Produto|Genero|Idade|Ocupacao|Cidade_Categoria|Permanencia_na_Cidade_Anos|Estado_Civil|Categoria_Produto_1|Categoria_Produto_2|Categoria_Produto_3|Valor|\n",
            "+----------+----------+------+-----+--------+----------------+--------------------------+------------+-------------------+-------------------+-------------------+-----+\n",
            "|   1000001| P00069042|     F| 0-17|      10|               A|                         2|           0|                  3|               null|               null| 8370|\n",
            "|   1000001| P00248942|     F| 0-17|      10|               A|                         2|           0|                  1|                  6|                 14|15200|\n",
            "|   1000001| P00087842|     F| 0-17|      10|               A|                         2|           0|                 12|               null|               null| 1422|\n",
            "|   1000001| P00085442|     F| 0-17|      10|               A|                         2|           0|                 12|                 14|               null| 1057|\n",
            "|   1000002| P00285442|     M|  55+|      16|               C|                        4+|           0|                  8|               null|               null| 7969|\n",
            "+----------+----------+------+-----+--------+----------------+--------------------------+------------+-------------------+-------------------+-------------------+-----+\n",
            "only showing top 5 rows\n",
            "\n"
          ]
        }
      ]
    },
    {
      "cell_type": "code",
      "source": [
        "# Verificando o schema() deste spark dataframe\n",
        "dados_spark.printSchema()"
      ],
      "metadata": {
        "id": "soVOCWe-RYPD",
        "colab": {
          "base_uri": "https://localhost:8080/"
        },
        "outputId": "a92c2f8e-5a70-44d4-d9c3-4b75fd4b5a4b"
      },
      "execution_count": 15,
      "outputs": [
        {
          "output_type": "stream",
          "name": "stdout",
          "text": [
            "root\n",
            " |-- ID_Usuario: string (nullable = true)\n",
            " |-- ID_Produto: string (nullable = true)\n",
            " |-- Genero: string (nullable = true)\n",
            " |-- Idade: string (nullable = true)\n",
            " |-- Ocupacao: string (nullable = true)\n",
            " |-- Cidade_Categoria: string (nullable = true)\n",
            " |-- Permanencia_na_Cidade_Anos: string (nullable = true)\n",
            " |-- Estado_Civil: string (nullable = true)\n",
            " |-- Categoria_Produto_1: string (nullable = true)\n",
            " |-- Categoria_Produto_2: string (nullable = true)\n",
            " |-- Categoria_Produto_3: string (nullable = true)\n",
            " |-- Valor: string (nullable = true)\n",
            "\n"
          ]
        }
      ]
    },
    {
      "cell_type": "code",
      "source": [
        "#Retornar o número de linhas\n",
        "dados_spark.count()"
      ],
      "metadata": {
        "id": "BU3fzdIdRbPO",
        "colab": {
          "base_uri": "https://localhost:8080/"
        },
        "outputId": "7ed16422-358c-43d7-f2c6-dc3bff769382"
      },
      "execution_count": 16,
      "outputs": [
        {
          "output_type": "execute_result",
          "data": {
            "text/plain": [
              "550068"
            ]
          },
          "metadata": {},
          "execution_count": 16
        }
      ]
    },
    {
      "cell_type": "code",
      "source": [
        "#Selecionar colunas\n",
        "dados_spark.select(\"ID_Usuario\",\"Genero\",\"Idade\",\"Ocupacao\").show(5)"
      ],
      "metadata": {
        "id": "FdaDBmJLR1Ai",
        "colab": {
          "base_uri": "https://localhost:8080/"
        },
        "outputId": "9b44c8fa-b61e-4230-a688-30ff448afbbf"
      },
      "execution_count": 17,
      "outputs": [
        {
          "output_type": "stream",
          "name": "stdout",
          "text": [
            "+----------+------+-----+--------+\n",
            "|ID_Usuario|Genero|Idade|Ocupacao|\n",
            "+----------+------+-----+--------+\n",
            "|   1000001|     F| 0-17|      10|\n",
            "|   1000001|     F| 0-17|      10|\n",
            "|   1000001|     F| 0-17|      10|\n",
            "|   1000001|     F| 0-17|      10|\n",
            "|   1000002|     M|  55+|      16|\n",
            "+----------+------+-----+--------+\n",
            "only showing top 5 rows\n",
            "\n"
          ]
        }
      ]
    },
    {
      "cell_type": "code",
      "source": [
        "#Principais estatísticas\n",
        "dados_spark.describe().show(5)"
      ],
      "metadata": {
        "id": "fXGPpjdAR6_K",
        "colab": {
          "base_uri": "https://localhost:8080/"
        },
        "outputId": "99245bed-1c3d-45e4-aba5-8184b05623b0"
      },
      "execution_count": 18,
      "outputs": [
        {
          "output_type": "stream",
          "name": "stdout",
          "text": [
            "+-------+------------------+----------+------+------+-----------------+----------------+--------------------------+-------------------+-------------------+-------------------+-------------------+-----------------+\n",
            "|summary|        ID_Usuario|ID_Produto|Genero| Idade|         Ocupacao|Cidade_Categoria|Permanencia_na_Cidade_Anos|       Estado_Civil|Categoria_Produto_1|Categoria_Produto_2|Categoria_Produto_3|            Valor|\n",
            "+-------+------------------+----------+------+------+-----------------+----------------+--------------------------+-------------------+-------------------+-------------------+-------------------+-----------------+\n",
            "|  count|            550068|    550068|550068|550068|           550068|          550068|                    550068|             550068|             550068|             376430|             166821|           550068|\n",
            "|   mean|1003028.8424013031|      null|  null|  null|8.076706879876669|            null|         1.468494139793958|0.40965298835780306|  5.404270017525106|  9.842329251122386| 12.668243206790512|9263.968712959126|\n",
            "| stddev|1727.5915855313747|      null|  null|  null|6.522660487341741|            null|        0.9890866807573103| 0.4917701263173315|  3.936211369201365|  5.086589648693497|  4.125337631575274|5023.065393820575|\n",
            "|    min|           1000001| P00000142|     F|  0-17|                0|               A|                         0|                  0|                  1|                 10|                 10|            10000|\n",
            "|    max|           1006040|  P0099942|     M|   55+|                9|               C|                        4+|                  1|                  9|                  9|                  9|             9999|\n",
            "+-------+------------------+----------+------+------+-----------------+----------------+--------------------------+-------------------+-------------------+-------------------+-------------------+-----------------+\n",
            "\n"
          ]
        }
      ]
    },
    {
      "cell_type": "code",
      "source": [
        "#Ocorrências em uma variável\n",
        "dados_spark.select(\"Cidade_Categoria\").distinct().show()"
      ],
      "metadata": {
        "id": "m38ZAL_jTgsZ",
        "colab": {
          "base_uri": "https://localhost:8080/"
        },
        "outputId": "18b22aca-6e04-4113-9a8e-a1f7a4b9f927"
      },
      "execution_count": 19,
      "outputs": [
        {
          "output_type": "stream",
          "name": "stdout",
          "text": [
            "+----------------+\n",
            "|Cidade_Categoria|\n",
            "+----------------+\n",
            "|               B|\n",
            "|               C|\n",
            "|               A|\n",
            "+----------------+\n",
            "\n"
          ]
        }
      ]
    },
    {
      "cell_type": "code",
      "source": [
        "#Ocorrências em uma variável\n",
        "dados_spark.select(\"Estado_Civil\").distinct().show()"
      ],
      "metadata": {
        "id": "QtBQJaKWTw-3",
        "colab": {
          "base_uri": "https://localhost:8080/"
        },
        "outputId": "ba3bed24-8f42-41d0-fe10-0430f92875c7"
      },
      "execution_count": 20,
      "outputs": [
        {
          "output_type": "stream",
          "name": "stdout",
          "text": [
            "+------------+\n",
            "|Estado_Civil|\n",
            "+------------+\n",
            "|           0|\n",
            "|           1|\n",
            "+------------+\n",
            "\n"
          ]
        }
      ]
    },
    {
      "cell_type": "code",
      "source": [
        "#importar sql: groupBy\n",
        "from pyspark.sql import functions as F\n",
        "\n",
        "dados_spark.groupBy(\"Cidade_Categoria\").agg(F.sum(\"Valor\")).show()"
      ],
      "metadata": {
        "id": "aDbCq1iZT6RX",
        "colab": {
          "base_uri": "https://localhost:8080/"
        },
        "outputId": "338cb8ed-463d-4f57-ff1d-e0ec72f4f29e"
      },
      "execution_count": 21,
      "outputs": [
        {
          "output_type": "stream",
          "name": "stdout",
          "text": [
            "+----------------+-------------+\n",
            "|Cidade_Categoria|   sum(Valor)|\n",
            "+----------------+-------------+\n",
            "|               B|2.115533605E9|\n",
            "|               C|1.663807476E9|\n",
            "|               A|1.316471661E9|\n",
            "+----------------+-------------+\n",
            "\n"
          ]
        }
      ]
    },
    {
      "cell_type": "code",
      "source": [
        "item_popular = dados_spark.groupBy('ID_Produto').agg(F.count('ID_Produto')).orderBy(F.count('ID_Produto').desc()).show(10)"
      ],
      "metadata": {
        "id": "9qpE_jGEUWYz",
        "colab": {
          "base_uri": "https://localhost:8080/"
        },
        "outputId": "e7238d4e-6e5b-44fb-cf24-7ecd53ecf382"
      },
      "execution_count": 22,
      "outputs": [
        {
          "output_type": "stream",
          "name": "stdout",
          "text": [
            "+----------+-----------------+\n",
            "|ID_Produto|count(ID_Produto)|\n",
            "+----------+-----------------+\n",
            "| P00265242|             1880|\n",
            "| P00025442|             1615|\n",
            "| P00110742|             1612|\n",
            "| P00112142|             1562|\n",
            "| P00057642|             1470|\n",
            "| P00184942|             1440|\n",
            "| P00046742|             1438|\n",
            "| P00058042|             1422|\n",
            "| P00059442|             1406|\n",
            "| P00145042|             1406|\n",
            "+----------+-----------------+\n",
            "only showing top 10 rows\n",
            "\n"
          ]
        }
      ]
    },
    {
      "cell_type": "code",
      "source": [
        "idade_popular = dados_spark.groupBy('Idade').agg(F.sum('Valor')).orderBy(F.sum('Valor').desc()).show()"
      ],
      "metadata": {
        "id": "_mv91jWYaYFL",
        "colab": {
          "base_uri": "https://localhost:8080/"
        },
        "outputId": "2209ba4d-a9f2-41a1-e37e-599ca4c8e814"
      },
      "execution_count": 23,
      "outputs": [
        {
          "output_type": "stream",
          "name": "stdout",
          "text": [
            "+-----+-------------+\n",
            "|Idade|   sum(Valor)|\n",
            "+-----+-------------+\n",
            "|26-35|2.031770578E9|\n",
            "|36-45|1.026569884E9|\n",
            "|18-25| 9.13848675E8|\n",
            "|46-50| 4.20843403E8|\n",
            "|51-55| 3.67099644E8|\n",
            "|  55+| 2.00767375E8|\n",
            "| 0-17| 1.34913183E8|\n",
            "+-----+-------------+\n",
            "\n"
          ]
        }
      ]
    },
    {
      "cell_type": "code",
      "source": [
        "gasto_cliente = dados_spark.groupBy('ID_Usuario').agg(F.count('ID_Usuario'),F.sum('Valor')).orderBy(F.sum('Valor').desc()).show(10)"
      ],
      "metadata": {
        "id": "F6dFnPhmboTS",
        "colab": {
          "base_uri": "https://localhost:8080/"
        },
        "outputId": "cbb04ed8-d402-41b7-ea15-bc6d78a90ec0"
      },
      "execution_count": 24,
      "outputs": [
        {
          "output_type": "stream",
          "name": "stdout",
          "text": [
            "+----------+-----------------+-----------+\n",
            "|ID_Usuario|count(ID_Usuario)| sum(Valor)|\n",
            "+----------+-----------------+-----------+\n",
            "|   1004277|              979|1.0536909E7|\n",
            "|   1001680|             1026|  8699596.0|\n",
            "|   1002909|              718|  7577756.0|\n",
            "|   1001941|              898|  6817493.0|\n",
            "|   1000424|              694|  6573609.0|\n",
            "|   1004448|              575|  6566245.0|\n",
            "|   1005831|              727|  6512433.0|\n",
            "|   1001015|              740|  6511314.0|\n",
            "|   1003391|              698|  6477160.0|\n",
            "|   1001181|              862|  6387961.0|\n",
            "+----------+-----------------+-----------+\n",
            "only showing top 10 rows\n",
            "\n"
          ]
        }
      ]
    },
    {
      "cell_type": "code",
      "source": [
        "#Dados faltantes\n",
        "dados_spark.select([F.count(F.when(F.isnull(c), c)).alias(c) for c in dados_spark.columns]).show()"
      ],
      "metadata": {
        "id": "akQ_B5Qia6jA",
        "colab": {
          "base_uri": "https://localhost:8080/"
        },
        "outputId": "a22c4cdd-cd80-4ad1-e8e9-9fa8741fd98f"
      },
      "execution_count": 25,
      "outputs": [
        {
          "output_type": "stream",
          "name": "stdout",
          "text": [
            "+----------+----------+------+-----+--------+----------------+--------------------------+------------+-------------------+-------------------+-------------------+-----+\n",
            "|ID_Usuario|ID_Produto|Genero|Idade|Ocupacao|Cidade_Categoria|Permanencia_na_Cidade_Anos|Estado_Civil|Categoria_Produto_1|Categoria_Produto_2|Categoria_Produto_3|Valor|\n",
            "+----------+----------+------+-----+--------+----------------+--------------------------+------------+-------------------+-------------------+-------------------+-----+\n",
            "|         0|         0|     0|    0|       0|               0|                         0|           0|                  0|             173638|             383247|    0|\n",
            "+----------+----------+------+-----+--------+----------------+--------------------------+------------+-------------------+-------------------+-------------------+-----+\n",
            "\n"
          ]
        }
      ]
    },
    {
      "cell_type": "code",
      "source": [
        "#substituir valores ausentes\n",
        "dados_spark_sem_na = dados_spark.fillna({'Categoria_Produto_2':'Sem Resposta', 'Categoria_Produto_3':'Sem Resposta'})"
      ],
      "metadata": {
        "id": "KUvQYZ5BbEaX"
      },
      "execution_count": 26,
      "outputs": []
    },
    {
      "cell_type": "code",
      "source": [
        "dados_spark_sem_na.select([F.count(F.when(F.isnull(c), c)).alias(c) for c in dados_spark_sem_na.columns]).show()"
      ],
      "metadata": {
        "id": "deWfS-g6bGau",
        "colab": {
          "base_uri": "https://localhost:8080/"
        },
        "outputId": "9c0a4c40-0dab-4c60-ff2c-457b6d694c89"
      },
      "execution_count": 27,
      "outputs": [
        {
          "output_type": "stream",
          "name": "stdout",
          "text": [
            "+----------+----------+------+-----+--------+----------------+--------------------------+------------+-------------------+-------------------+-------------------+-----+\n",
            "|ID_Usuario|ID_Produto|Genero|Idade|Ocupacao|Cidade_Categoria|Permanencia_na_Cidade_Anos|Estado_Civil|Categoria_Produto_1|Categoria_Produto_2|Categoria_Produto_3|Valor|\n",
            "+----------+----------+------+-----+--------+----------------+--------------------------+------------+-------------------+-------------------+-------------------+-----+\n",
            "|         0|         0|     0|    0|       0|               0|                         0|           0|                  0|                  0|                  0|    0|\n",
            "+----------+----------+------+-----+--------+----------------+--------------------------+------------+-------------------+-------------------+-------------------+-----+\n",
            "\n"
          ]
        }
      ]
    },
    {
      "cell_type": "code",
      "source": [
        "# Verificando o novo dataset\n",
        "dados_spark_sem_na.show(5)"
      ],
      "metadata": {
        "id": "fEuWVWlPcDxi",
        "colab": {
          "base_uri": "https://localhost:8080/"
        },
        "outputId": "db881506-9e99-4fed-f245-fff2ef2714fb"
      },
      "execution_count": 28,
      "outputs": [
        {
          "output_type": "stream",
          "name": "stdout",
          "text": [
            "+----------+----------+------+-----+--------+----------------+--------------------------+------------+-------------------+-------------------+-------------------+-----+\n",
            "|ID_Usuario|ID_Produto|Genero|Idade|Ocupacao|Cidade_Categoria|Permanencia_na_Cidade_Anos|Estado_Civil|Categoria_Produto_1|Categoria_Produto_2|Categoria_Produto_3|Valor|\n",
            "+----------+----------+------+-----+--------+----------------+--------------------------+------------+-------------------+-------------------+-------------------+-----+\n",
            "|   1000001| P00069042|     F| 0-17|      10|               A|                         2|           0|                  3|       Sem Resposta|       Sem Resposta| 8370|\n",
            "|   1000001| P00248942|     F| 0-17|      10|               A|                         2|           0|                  1|                  6|                 14|15200|\n",
            "|   1000001| P00087842|     F| 0-17|      10|               A|                         2|           0|                 12|       Sem Resposta|       Sem Resposta| 1422|\n",
            "|   1000001| P00085442|     F| 0-17|      10|               A|                         2|           0|                 12|                 14|       Sem Resposta| 1057|\n",
            "|   1000002| P00285442|     M|  55+|      16|               C|                        4+|           0|                  8|       Sem Resposta|       Sem Resposta| 7969|\n",
            "+----------+----------+------+-----+--------+----------------+--------------------------+------------+-------------------+-------------------+-------------------+-----+\n",
            "only showing top 5 rows\n",
            "\n"
          ]
        }
      ]
    },
    {
      "cell_type": "code",
      "source": [
        "#Excluir colunas da base de dados\n",
        "dados_spark = dados_spark.drop('Categoria_Produto_2','Categoria_Produto_3')\n",
        "dados_spark.show(5)"
      ],
      "metadata": {
        "id": "uiAaMn26cGgI",
        "colab": {
          "base_uri": "https://localhost:8080/"
        },
        "outputId": "92d342e6-8e83-4d40-fb96-ad4944c65fe8"
      },
      "execution_count": 29,
      "outputs": [
        {
          "output_type": "stream",
          "name": "stdout",
          "text": [
            "+----------+----------+------+-----+--------+----------------+--------------------------+------------+-------------------+-----+\n",
            "|ID_Usuario|ID_Produto|Genero|Idade|Ocupacao|Cidade_Categoria|Permanencia_na_Cidade_Anos|Estado_Civil|Categoria_Produto_1|Valor|\n",
            "+----------+----------+------+-----+--------+----------------+--------------------------+------------+-------------------+-----+\n",
            "|   1000001| P00069042|     F| 0-17|      10|               A|                         2|           0|                  3| 8370|\n",
            "|   1000001| P00248942|     F| 0-17|      10|               A|                         2|           0|                  1|15200|\n",
            "|   1000001| P00087842|     F| 0-17|      10|               A|                         2|           0|                 12| 1422|\n",
            "|   1000001| P00085442|     F| 0-17|      10|               A|                         2|           0|                 12| 1057|\n",
            "|   1000002| P00285442|     M|  55+|      16|               C|                        4+|           0|                  8| 7969|\n",
            "+----------+----------+------+-----+--------+----------------+--------------------------+------------+-------------------+-----+\n",
            "only showing top 5 rows\n",
            "\n"
          ]
        }
      ]
    },
    {
      "cell_type": "code",
      "source": [
        "# Salvar resultado\n",
        "dados_spark_sem_na.write.csv(\"/content/drive/MyDrive/data\")"
      ],
      "metadata": {
        "id": "TaGsfZ-jcKqA"
      },
      "execution_count": 32,
      "outputs": []
    },
    {
      "cell_type": "code",
      "source": [
        "# Spark para Pandas\n",
        "dados_spark_sem_na_pd = dados_spark_sem_na.toPandas()\n",
        "\n",
        "# Salvar resultado\n",
        "dados_spark_sem_na_pd.to_csv(\"/content/drive/MyDrive/data.csv\")"
      ],
      "metadata": {
        "id": "hvHx70ILcLcp"
      },
      "execution_count": 33,
      "outputs": []
    },
    {
      "cell_type": "code",
      "source": [
        "import matplotlib.pyplot as plt"
      ],
      "metadata": {
        "id": "7Arbu6sRb_Sy"
      },
      "execution_count": 34,
      "outputs": []
    },
    {
      "cell_type": "code",
      "source": [
        "valor = dados_spark_sem_na_pd['Valor']\n",
        "plt.hist(valor)\n",
        "plt.show()"
      ],
      "metadata": {
        "id": "K0l8n9T6cAIy"
      },
      "execution_count": null,
      "outputs": []
    }
  ]
}